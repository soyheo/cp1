{
 "cells": [
  {
   "cell_type": "code",
   "execution_count": 1,
   "metadata": {},
   "outputs": [],
   "source": [
    "import pandas as pd\n",
    "import dask.dataframe as dd\n",
    "from dask.distributed import Client\n",
    "import pyarrow as pa\n",
    "import pyarrow.parquet as pq"
   ]
  },
  {
   "cell_type": "code",
   "execution_count": 2,
   "metadata": {},
   "outputs": [
    {
     "name": "stdout",
     "output_type": "stream",
     "text": [
      "<class 'pandas.core.frame.DataFrame'>\n",
      "RangeIndex: 42448764 entries, 0 to 42448763\n",
      "Data columns (total 9 columns):\n",
      " #   Column         Dtype  \n",
      "---  ------         -----  \n",
      " 0   event_time     object \n",
      " 1   event_type     object \n",
      " 2   product_id     int64  \n",
      " 3   category_id    int64  \n",
      " 4   category_code  object \n",
      " 5   brand          object \n",
      " 6   price          float64\n",
      " 7   user_id        int64  \n",
      " 8   user_session   object \n",
      "dtypes: float64(1), int64(3), object(5)\n",
      "memory usage: 15.4 GB\n"
     ]
    }
   ],
   "source": [
    "# Pandas로 데이터 살펴보기\n",
    "df = pd.read_csv(r\"C:\\Users\\mylio\\Desktop\\cp1\\archive (1)\\2019-Oct.csv\")\n",
    "df.info(memory_usage='deep')"
   ]
  },
  {
   "cell_type": "code",
   "execution_count": 3,
   "metadata": {},
   "outputs": [],
   "source": [
    "# 데이터 경량화(step별 memory변화 확인)\n",
    "# df.describe(include='object')\n",
    "# df = df.astype({'event_type': 'category', 'category_code': 'category', 'brand': 'category'})\n",
    "# df.info(memory_usage='deep')"
   ]
  },
  {
   "cell_type": "code",
   "execution_count": 4,
   "metadata": {},
   "outputs": [],
   "source": [
    "# df = df.astype({'product_id': 'int32', 'price': 'float32', 'user_id': 'int32'})\n",
    "# df.info(memory_usage='deep')"
   ]
  },
  {
   "cell_type": "code",
   "execution_count": 5,
   "metadata": {},
   "outputs": [],
   "source": [
    "# df = df.astype({'event_time': 'datetime64'})\n",
    "# df.info(memory_usage='deep') "
   ]
  },
  {
   "cell_type": "code",
   "execution_count": 6,
   "metadata": {},
   "outputs": [
    {
     "name": "stdout",
     "output_type": "stream",
     "text": [
      "<class 'pandas.core.frame.DataFrame'>\n",
      "RangeIndex: 42448764 entries, 0 to 42448763\n",
      "Data columns (total 9 columns):\n",
      " #   Column         Dtype         \n",
      "---  ------         -----         \n",
      " 0   event_time     datetime64[ns]\n",
      " 1   event_type     category      \n",
      " 2   product_id     int32         \n",
      " 3   category_id    int64         \n",
      " 4   category_code  category      \n",
      " 5   brand          category      \n",
      " 6   price          float16       \n",
      " 7   user_id        int32         \n",
      " 8   user_session   object        \n",
      "dtypes: category(3), datetime64[ns](1), float16(1), int32(2), int64(1), object(1)\n",
      "memory usage: 4.9 GB\n"
     ]
    }
   ],
   "source": [
    "df = df.astype({'event_type': 'category', \n",
    "                'category_code': 'category', \n",
    "                'brand': 'category', \n",
    "                'product_id': 'int32', \n",
    "                'price': 'float16', \n",
    "                'user_id': 'int32', \n",
    "                'event_time': 'datetime64'})\n",
    "df.info(memory_usage='deep') "
   ]
  },
  {
   "cell_type": "code",
   "execution_count": 7,
   "metadata": {},
   "outputs": [],
   "source": [
    "# sum(df.user_session.value_counts() == 1)"
   ]
  },
  {
   "cell_type": "code",
   "execution_count": 8,
   "metadata": {},
   "outputs": [],
   "source": [
    "# df = df.set_index(['user_id', 'user_session', 'event_time'], drop=True)\n",
    "# df = df.set_index('user_id', drop=True)\n",
    "# df.info(memory_usage='deep')"
   ]
  },
  {
   "cell_type": "code",
   "execution_count": 9,
   "metadata": {},
   "outputs": [
    {
     "data": {
      "text/plain": [
       "event_time              0\n",
       "event_type              0\n",
       "product_id              0\n",
       "category_id             0\n",
       "category_code    13515609\n",
       "brand             6117080\n",
       "price                   0\n",
       "user_id                 0\n",
       "user_session            2\n",
       "dtype: int64"
      ]
     },
     "execution_count": 9,
     "metadata": {},
     "output_type": "execute_result"
    }
   ],
   "source": [
    "# 결측값 확인\n",
    "df.isnull().sum()"
   ]
  },
  {
   "cell_type": "code",
   "execution_count": 10,
   "metadata": {},
   "outputs": [
    {
     "name": "stdout",
     "output_type": "stream",
     "text": [
      "Total category_id:  624\n",
      "Total category_code:  126\n"
     ]
    }
   ],
   "source": [
    "# category\n",
    "print(\"Total category_id: \", df['category_id'].nunique())\n",
    "print(\"Total category_code: \", df['category_code'].nunique())"
   ]
  },
  {
   "cell_type": "code",
   "execution_count": 11,
   "metadata": {},
   "outputs": [
    {
     "data": {
      "text/plain": [
       "2053013555631882655    11507231\n",
       "2053013553559896355     1888744\n",
       "2053013558920217191     1130645\n",
       "2053013554415534427     1105635\n",
       "2053013554658804075     1100188\n",
       "2053013563810775923      869404\n",
       "2053013563651392361      787191\n",
       "2053013565983425517      773468\n",
       "2053013553341792533      706417\n",
       "2053013556168753601      694553\n",
       "Name: category_id, dtype: int64"
      ]
     },
     "execution_count": 11,
     "metadata": {},
     "output_type": "execute_result"
    }
   ],
   "source": [
    "# top10 category_id\n",
    "df.category_id.value_counts().head(10)"
   ]
  },
  {
   "cell_type": "code",
   "execution_count": 12,
   "metadata": {},
   "outputs": [
    {
     "data": {
      "text/plain": [
       "['electronics.smartphone']\n",
       "Categories (126, object): ['accessories.bag', 'accessories.umbrella', 'accessories.wallet', 'apparel.belt', ..., 'sport.snowboard', 'sport.tennis', 'sport.trainer', 'stationery.cartrige']"
      ]
     },
     "execution_count": 12,
     "metadata": {},
     "output_type": "execute_result"
    }
   ],
   "source": [
    "# top 10중 첫번째 category_id의 category_code 확인\n",
    "df[df['category_id'] == 2053013555631882655].category_code.unique()\n",
    "# 같은 category_id라도 다른 category_code를 가질 수 있다\n",
    "# category_id는 분석에 큰 의미없어 보인다\n",
    "# category_code가 null의 경우 보간할 방법이 없으므로 삭제한다"
   ]
  },
  {
   "cell_type": "code",
   "execution_count": 13,
   "metadata": {},
   "outputs": [
    {
     "name": "stdout",
     "output_type": "stream",
     "text": [
      "<class 'pandas.core.frame.DataFrame'>\n",
      "RangeIndex: 28933155 entries, 0 to 28933154\n",
      "Data columns (total 9 columns):\n",
      " #   Column         Dtype         \n",
      "---  ------         -----         \n",
      " 0   event_time     datetime64[ns]\n",
      " 1   event_type     category      \n",
      " 2   product_id     int32         \n",
      " 3   category_id    int64         \n",
      " 4   category_code  category      \n",
      " 5   brand          category      \n",
      " 6   price          float16       \n",
      " 7   user_id        int32         \n",
      " 8   user_session   object        \n",
      "dtypes: category(3), datetime64[ns](1), float16(1), int32(2), int64(1), object(1)\n",
      "memory usage: 3.3 GB\n"
     ]
    }
   ],
   "source": [
    "df = df.drop(df[df['category_code'].isnull()].index).reset_index(drop=True)\n",
    "df.info(memory_usage='deep')"
   ]
  },
  {
   "cell_type": "code",
   "execution_count": 14,
   "metadata": {},
   "outputs": [
    {
     "data": {
      "text/html": [
       "<div>\n",
       "<style scoped>\n",
       "    .dataframe tbody tr th:only-of-type {\n",
       "        vertical-align: middle;\n",
       "    }\n",
       "\n",
       "    .dataframe tbody tr th {\n",
       "        vertical-align: top;\n",
       "    }\n",
       "\n",
       "    .dataframe thead th {\n",
       "        text-align: right;\n",
       "    }\n",
       "</style>\n",
       "<table border=\"1\" class=\"dataframe\">\n",
       "  <thead>\n",
       "    <tr style=\"text-align: right;\">\n",
       "      <th></th>\n",
       "      <th>event_time</th>\n",
       "      <th>event_type</th>\n",
       "      <th>product_id</th>\n",
       "      <th>category_id</th>\n",
       "      <th>category_code</th>\n",
       "      <th>brand</th>\n",
       "      <th>price</th>\n",
       "      <th>user_id</th>\n",
       "      <th>user_session</th>\n",
       "    </tr>\n",
       "  </thead>\n",
       "  <tbody>\n",
       "    <tr>\n",
       "      <th>4935734</th>\n",
       "      <td>2019-10-06 14:26:10</td>\n",
       "      <td>cart</td>\n",
       "      <td>1801723</td>\n",
       "      <td>2053013554415534427</td>\n",
       "      <td>electronics.video.tv</td>\n",
       "      <td>tcl</td>\n",
       "      <td>135.625</td>\n",
       "      <td>557388939</td>\n",
       "      <td>NaN</td>\n",
       "    </tr>\n",
       "    <tr>\n",
       "      <th>23100158</th>\n",
       "      <td>2019-10-25 10:36:14</td>\n",
       "      <td>cart</td>\n",
       "      <td>1004767</td>\n",
       "      <td>2053013555631882655</td>\n",
       "      <td>electronics.smartphone</td>\n",
       "      <td>samsung</td>\n",
       "      <td>246.500</td>\n",
       "      <td>549825742</td>\n",
       "      <td>NaN</td>\n",
       "    </tr>\n",
       "  </tbody>\n",
       "</table>\n",
       "</div>"
      ],
      "text/plain": [
       "                  event_time event_type  product_id          category_id  \\\n",
       "4935734  2019-10-06 14:26:10       cart     1801723  2053013554415534427   \n",
       "23100158 2019-10-25 10:36:14       cart     1004767  2053013555631882655   \n",
       "\n",
       "                   category_code    brand    price    user_id user_session  \n",
       "4935734     electronics.video.tv      tcl  135.625  557388939          NaN  \n",
       "23100158  electronics.smartphone  samsung  246.500  549825742          NaN  "
      ]
     },
     "execution_count": 14,
     "metadata": {},
     "output_type": "execute_result"
    }
   ],
   "source": [
    "# user_session 결측값 확인\n",
    "df[df['user_session'].isnull()]"
   ]
  },
  {
   "cell_type": "code",
   "execution_count": 15,
   "metadata": {},
   "outputs": [],
   "source": [
    "# user_session 결측값 두 개 중 한 개의 user_id로 데이터 확인\n",
    "df[df['user_id'] == 557388939]\n",
    "# 특별한 이유가 있어 null이 된 것으로 보이지 않고 단순 오류일 가능성\n",
    "# 삭제 처리한다\n",
    "df = df.drop(df[df['user_id'].isnull()].index).reset_index(drop=True)"
   ]
  },
  {
   "cell_type": "code",
   "execution_count": 16,
   "metadata": {},
   "outputs": [
    {
     "data": {
      "text/plain": [
       "event_time             0\n",
       "event_type             0\n",
       "product_id             0\n",
       "category_id            0\n",
       "category_code          0\n",
       "brand            2372533\n",
       "price                  0\n",
       "user_id                0\n",
       "user_session           2\n",
       "dtype: int64"
      ]
     },
     "execution_count": 16,
     "metadata": {},
     "output_type": "execute_result"
    }
   ],
   "source": [
    "df.isnull().sum()"
   ]
  },
  {
   "cell_type": "code",
   "execution_count": 17,
   "metadata": {},
   "outputs": [
    {
     "data": {
      "text/plain": [
       "Index                   128\n",
       "event_time        231465240\n",
       "event_type         28933450\n",
       "product_id        115732620\n",
       "category_id       231465240\n",
       "category_code      28947380\n",
       "brand              58217775\n",
       "price              57866310\n",
       "user_id           115732620\n",
       "user_session     2690783293\n",
       "dtype: int64"
      ]
     },
     "execution_count": 17,
     "metadata": {},
     "output_type": "execute_result"
    }
   ],
   "source": [
    "df.memory_usage(deep=True)"
   ]
  },
  {
   "cell_type": "code",
   "execution_count": 18,
   "metadata": {},
   "outputs": [],
   "source": [
    "# df.to_parquet('oct19.parquet')\n",
    "# df_dd = dd.read_parquet('*.parquet')"
   ]
  },
  {
   "cell_type": "code",
   "execution_count": 19,
   "metadata": {},
   "outputs": [
    {
     "data": {
      "text/plain": [
       "[Text(0, 0, '0.951951'), Text(0, 0, '0.0283685'), Text(0, 0, '0.0196807')]"
      ]
     },
     "execution_count": 19,
     "metadata": {},
     "output_type": "execute_result"
    },
    {
     "data": {
      "image/png": "[encoded data removed]",
      "text/plain": [
       "<Figure size 432x288 with 1 Axes>"
      ]
     },
     "metadata": {
      "needs_background": "light"
     },
     "output_type": "display_data"
    }
   ],
   "source": [
    "import matplotlib.pylab as plt\n",
    "import seaborn as sns\n",
    "#%%\n",
    "# event_type 분포 확인\n",
    "events = df['event_type'].value_counts(normalize=True).plot(kind='bar')\n",
    "events.bar_label(events.containers[0])\n",
    "# events.plot(kind='bar')"
   ]
  },
  {
   "cell_type": "code",
   "execution_count": 20,
   "metadata": {},
   "outputs": [
    {
     "name": "stdout",
     "output_type": "stream",
     "text": [
      "Total brand:  1731\n"
     ]
    },
    {
     "data": {
      "text/plain": [
       "samsung    0.194231\n",
       "apple      0.154087\n",
       "xiaomi     0.101566\n",
       "huawei     0.041127\n",
       "lg         0.019164\n",
       "oppo       0.018181\n",
       "acer       0.016117\n",
       "lenovo     0.012724\n",
       "bosch      0.012418\n",
       "hp         0.011108\n",
       "Name: brand, dtype: float64"
      ]
     },
     "execution_count": 20,
     "metadata": {},
     "output_type": "execute_result"
    }
   ],
   "source": [
    "# brand 개수 및 분포 확인\n",
    "print(\"Total brand: \", df['brand'].nunique())\n",
    "df['brand'].value_counts(normalize=True).head(10)\n",
    "# 그림 그려보고 상위 브랜드 분석"
   ]
  },
  {
   "cell_type": "code",
   "execution_count": 21,
   "metadata": {},
   "outputs": [
    {
     "data": {
      "text/plain": [
       "<AxesSubplot:>"
      ]
     },
     "execution_count": 21,
     "metadata": {},
     "output_type": "execute_result"
    },
    {
     "data": {
      "image/png": "[encoded data removed]",
      "text/plain": [
       "<Figure size 432x288 with 1 Axes>"
      ]
     },
     "metadata": {
      "needs_background": "light"
     },
     "output_type": "display_data"
    }
   ],
   "source": [
    "# price 분포 확인\n",
    "df.price.hist()"
   ]
  },
  {
   "cell_type": "code",
   "execution_count": 22,
   "metadata": {},
   "outputs": [
    {
     "name": "stdout",
     "output_type": "stream",
     "text": [
      "31625\n",
      "<class 'pandas.core.frame.DataFrame'>\n",
      "RangeIndex: 28901530 entries, 0 to 28901529\n",
      "Data columns (total 9 columns):\n",
      " #   Column         Dtype         \n",
      "---  ------         -----         \n",
      " 0   event_time     datetime64[ns]\n",
      " 1   event_type     category      \n",
      " 2   product_id     int32         \n",
      " 3   category_id    int64         \n",
      " 4   category_code  category      \n",
      " 5   brand          category      \n",
      " 6   price          float16       \n",
      " 7   user_id        int32         \n",
      " 8   user_session   object        \n",
      "dtypes: category(3), datetime64[ns](1), float16(1), int32(2), int64(1), object(1)\n",
      "memory usage: 3.3 GB\n"
     ]
    }
   ],
   "source": [
    "# price == 0 삭제\n",
    "print(len(df[df['price'] == 0]))\n",
    "df = df.drop(df[df['price'] == 0.0].index).reset_index(drop=True)\n",
    "df.info(memory_usage='deep')"
   ]
  },
  {
   "cell_type": "code",
   "execution_count": 23,
   "metadata": {},
   "outputs": [
    {
     "data": {
      "text/plain": [
       "<AxesSubplot:>"
      ]
     },
     "execution_count": 23,
     "metadata": {},
     "output_type": "execute_result"
    },
    {
     "data": {
      "image/png": "[encoded data removed]",
      "text/plain": [
       "<Figure size 432x288 with 1 Axes>"
      ]
     },
     "metadata": {
      "needs_background": "light"
     },
     "output_type": "display_data"
    }
   ],
   "source": [
    "df.price.plot(kind='box')"
   ]
  },
  {
   "cell_type": "code",
   "execution_count": 24,
   "metadata": {},
   "outputs": [
    {
     "data": {
      "text/plain": [
       "0.1082447538244515"
      ]
     },
     "execution_count": 24,
     "metadata": {},
     "output_type": "execute_result"
    }
   ],
   "source": [
    "df[df['price'] > 800]\n",
    "# 확인결과 고가의 전자기기 케이스, 10%비중으로 이상치로 판단할 수 없다\n",
    "len(df[df['price'] > 800])/len(df)"
   ]
  },
  {
   "cell_type": "code",
   "execution_count": 25,
   "metadata": {},
   "outputs": [
    {
     "data": {
      "text/plain": [
       "0.4239529187555123"
      ]
     },
     "execution_count": 25,
     "metadata": {},
     "output_type": "execute_result"
    }
   ],
   "source": [
    "len(df[df['price'] > 250])/len(df)\n",
    "# 저가 상품이 전체 판매상품의 40% 이상\n",
    "# 가설1. 저가 상품이 가장 많이 팔리고 있을 것이다."
   ]
  },
  {
   "cell_type": "code",
   "execution_count": 26,
   "metadata": {},
   "outputs": [
    {
     "data": {
      "text/plain": [
       "event_time       datetime64[ns, UTC]\n",
       "event_type                  category\n",
       "product_id                     int32\n",
       "category_id                    int64\n",
       "category_code               category\n",
       "brand                       category\n",
       "price                        float32\n",
       "user_id                        int32\n",
       "user_session                  object\n",
       "dtype: object"
      ]
     },
     "execution_count": 26,
     "metadata": {},
     "output_type": "execute_result"
    }
   ],
   "source": [
    "# dask\n",
    "# client = Client()\n",
    "# client\n",
    "df_dd = dd.read_csv(r\"C:\\Users\\mylio\\Desktop\\cp1\\archive (1)\\2019-Oct.csv\", dtype=(\n",
    "    {'event_type': 'category', 'category_code': 'category', 'brand': 'category', \n",
    "     'product_id': 'int32', 'price': 'float32', 'user_id': 'int32'}), \n",
    "     parse_dates=['event_time'])\n",
    "df_dd.dtypes\n",
    "# 데이터크기가 너무 커서 연산속도보다는 메모리 용량부족이 문제라 해결책이 되지 않는다\n",
    "# 분석대상에 따라 데이터를 쪼개서 분석하도록 한다"
   ]
  },
  {
   "cell_type": "code",
   "execution_count": 27,
   "metadata": {},
   "outputs": [
    {
     "data": {
      "text/html": [
       "<div>\n",
       "<style scoped>\n",
       "    .dataframe tbody tr th:only-of-type {\n",
       "        vertical-align: middle;\n",
       "    }\n",
       "\n",
       "    .dataframe tbody tr th {\n",
       "        vertical-align: top;\n",
       "    }\n",
       "\n",
       "    .dataframe thead th {\n",
       "        text-align: right;\n",
       "    }\n",
       "</style>\n",
       "<table border=\"1\" class=\"dataframe\">\n",
       "  <thead>\n",
       "    <tr style=\"text-align: right;\">\n",
       "      <th></th>\n",
       "      <th>event_time</th>\n",
       "      <th>event_type</th>\n",
       "      <th>product_id</th>\n",
       "      <th>category_id</th>\n",
       "      <th>category_code</th>\n",
       "      <th>brand</th>\n",
       "      <th>price</th>\n",
       "      <th>user_id</th>\n",
       "      <th>user_session</th>\n",
       "    </tr>\n",
       "  </thead>\n",
       "  <tbody>\n",
       "    <tr>\n",
       "      <th>0</th>\n",
       "      <td>2019-10-01 00:00:00+00:00</td>\n",
       "      <td>view</td>\n",
       "      <td>44600062</td>\n",
       "      <td>2103807459595387724</td>\n",
       "      <td>NaN</td>\n",
       "      <td>shiseido</td>\n",
       "      <td>35.790001</td>\n",
       "      <td>541312140</td>\n",
       "      <td>72d76fde-8bb3-4e00-8c23-a032dfed738c</td>\n",
       "    </tr>\n",
       "    <tr>\n",
       "      <th>1</th>\n",
       "      <td>2019-10-01 00:00:00+00:00</td>\n",
       "      <td>view</td>\n",
       "      <td>3900821</td>\n",
       "      <td>2053013552326770905</td>\n",
       "      <td>appliances.environment.water_heater</td>\n",
       "      <td>aqua</td>\n",
       "      <td>33.200001</td>\n",
       "      <td>554748717</td>\n",
       "      <td>9333dfbd-b87a-4708-9857-6336556b0fcc</td>\n",
       "    </tr>\n",
       "    <tr>\n",
       "      <th>2</th>\n",
       "      <td>2019-10-01 00:00:01+00:00</td>\n",
       "      <td>view</td>\n",
       "      <td>17200506</td>\n",
       "      <td>2053013559792632471</td>\n",
       "      <td>furniture.living_room.sofa</td>\n",
       "      <td>NaN</td>\n",
       "      <td>543.099976</td>\n",
       "      <td>519107250</td>\n",
       "      <td>566511c2-e2e3-422b-b695-cf8e6e792ca8</td>\n",
       "    </tr>\n",
       "    <tr>\n",
       "      <th>3</th>\n",
       "      <td>2019-10-01 00:00:01+00:00</td>\n",
       "      <td>view</td>\n",
       "      <td>1307067</td>\n",
       "      <td>2053013558920217191</td>\n",
       "      <td>computers.notebook</td>\n",
       "      <td>lenovo</td>\n",
       "      <td>251.740005</td>\n",
       "      <td>550050854</td>\n",
       "      <td>7c90fc70-0e80-4590-96f3-13c02c18c713</td>\n",
       "    </tr>\n",
       "    <tr>\n",
       "      <th>4</th>\n",
       "      <td>2019-10-01 00:00:04+00:00</td>\n",
       "      <td>view</td>\n",
       "      <td>1004237</td>\n",
       "      <td>2053013555631882655</td>\n",
       "      <td>electronics.smartphone</td>\n",
       "      <td>apple</td>\n",
       "      <td>1081.979980</td>\n",
       "      <td>535871217</td>\n",
       "      <td>c6bd7419-2748-4c56-95b4-8cec9ff8b80d</td>\n",
       "    </tr>\n",
       "  </tbody>\n",
       "</table>\n",
       "</div>"
      ],
      "text/plain": [
       "                 event_time event_type  product_id          category_id  \\\n",
       "0 2019-10-01 00:00:00+00:00       view    44600062  2103807459595387724   \n",
       "1 2019-10-01 00:00:00+00:00       view     3900821  2053013552326770905   \n",
       "2 2019-10-01 00:00:01+00:00       view    17200506  2053013559792632471   \n",
       "3 2019-10-01 00:00:01+00:00       view     1307067  2053013558920217191   \n",
       "4 2019-10-01 00:00:04+00:00       view     1004237  2053013555631882655   \n",
       "\n",
       "                         category_code     brand        price    user_id  \\\n",
       "0                                  NaN  shiseido    35.790001  541312140   \n",
       "1  appliances.environment.water_heater      aqua    33.200001  554748717   \n",
       "2           furniture.living_room.sofa       NaN   543.099976  519107250   \n",
       "3                   computers.notebook    lenovo   251.740005  550050854   \n",
       "4               electronics.smartphone     apple  1081.979980  535871217   \n",
       "\n",
       "                           user_session  \n",
       "0  72d76fde-8bb3-4e00-8c23-a032dfed738c  \n",
       "1  9333dfbd-b87a-4708-9857-6336556b0fcc  \n",
       "2  566511c2-e2e3-422b-b695-cf8e6e792ca8  \n",
       "3  7c90fc70-0e80-4590-96f3-13c02c18c713  \n",
       "4  c6bd7419-2748-4c56-95b4-8cec9ff8b80d  "
      ]
     },
     "execution_count": 27,
     "metadata": {},
     "output_type": "execute_result"
    }
   ],
   "source": [
    "df_dd.head()"
   ]
  },
  {
   "cell_type": "code",
   "execution_count": 28,
   "metadata": {},
   "outputs": [
    {
     "data": {
      "text/plain": [
       "272071"
      ]
     },
     "execution_count": 28,
     "metadata": {},
     "output_type": "execute_result"
    }
   ],
   "source": [
    "# 구매를 한번이라도 해본 고객을 대상으로 고객행동분석\n",
    "df[df.event_type == 'purchase'].user_id.nunique()"
   ]
  },
  {
   "cell_type": "code",
   "execution_count": 31,
   "metadata": {},
   "outputs": [
    {
     "data": {
      "text/html": [
       "<div>\n",
       "<style scoped>\n",
       "    .dataframe tbody tr th:only-of-type {\n",
       "        vertical-align: middle;\n",
       "    }\n",
       "\n",
       "    .dataframe tbody tr th {\n",
       "        vertical-align: top;\n",
       "    }\n",
       "\n",
       "    .dataframe thead th {\n",
       "        text-align: right;\n",
       "    }\n",
       "</style>\n",
       "<table border=\"1\" class=\"dataframe\">\n",
       "  <thead>\n",
       "    <tr style=\"text-align: right;\">\n",
       "      <th></th>\n",
       "      <th>event_time</th>\n",
       "      <th>event_type</th>\n",
       "      <th>product_id</th>\n",
       "      <th>category_id</th>\n",
       "      <th>category_code</th>\n",
       "      <th>brand</th>\n",
       "      <th>price</th>\n",
       "      <th>user_id</th>\n",
       "      <th>user_session</th>\n",
       "    </tr>\n",
       "  </thead>\n",
       "  <tbody>\n",
       "    <tr>\n",
       "      <th>4</th>\n",
       "      <td>2019-10-01 00:00:05</td>\n",
       "      <td>view</td>\n",
       "      <td>1480613</td>\n",
       "      <td>2053013561092866779</td>\n",
       "      <td>computers.desktop</td>\n",
       "      <td>pulser</td>\n",
       "      <td>908.500</td>\n",
       "      <td>512742880</td>\n",
       "      <td>0d0d91c2-c9c2-4e81-90a5-86594dec0db9</td>\n",
       "    </tr>\n",
       "    <tr>\n",
       "      <th>17</th>\n",
       "      <td>2019-10-01 00:00:22</td>\n",
       "      <td>view</td>\n",
       "      <td>1480714</td>\n",
       "      <td>2053013561092866779</td>\n",
       "      <td>computers.desktop</td>\n",
       "      <td>pulser</td>\n",
       "      <td>921.500</td>\n",
       "      <td>512742880</td>\n",
       "      <td>0d0d91c2-c9c2-4e81-90a5-86594dec0db9</td>\n",
       "    </tr>\n",
       "    <tr>\n",
       "      <th>18</th>\n",
       "      <td>2019-10-01 00:00:23</td>\n",
       "      <td>view</td>\n",
       "      <td>1004739</td>\n",
       "      <td>2053013555631882655</td>\n",
       "      <td>electronics.smartphone</td>\n",
       "      <td>xiaomi</td>\n",
       "      <td>197.500</td>\n",
       "      <td>519530528</td>\n",
       "      <td>9882d21f-2c5f-496b-90d4-a1503edb6562</td>\n",
       "    </tr>\n",
       "    <tr>\n",
       "      <th>31</th>\n",
       "      <td>2019-10-01 00:00:35</td>\n",
       "      <td>view</td>\n",
       "      <td>3601505</td>\n",
       "      <td>2053013563810775923</td>\n",
       "      <td>appliances.kitchen.washer</td>\n",
       "      <td>samsung</td>\n",
       "      <td>463.250</td>\n",
       "      <td>526631741</td>\n",
       "      <td>5ec9bd77-beef-443e-b987-62ffb55b8132</td>\n",
       "    </tr>\n",
       "    <tr>\n",
       "      <th>32</th>\n",
       "      <td>2019-10-01 00:00:36</td>\n",
       "      <td>view</td>\n",
       "      <td>3600575</td>\n",
       "      <td>2053013563810775923</td>\n",
       "      <td>appliances.kitchen.washer</td>\n",
       "      <td>hotpoint-ariston</td>\n",
       "      <td>275.250</td>\n",
       "      <td>554754045</td>\n",
       "      <td>bd0302ef-c5ca-4b6a-b916-95cc2840c72c</td>\n",
       "    </tr>\n",
       "    <tr>\n",
       "      <th>...</th>\n",
       "      <td>...</td>\n",
       "      <td>...</td>\n",
       "      <td>...</td>\n",
       "      <td>...</td>\n",
       "      <td>...</td>\n",
       "      <td>...</td>\n",
       "      <td>...</td>\n",
       "      <td>...</td>\n",
       "      <td>...</td>\n",
       "    </tr>\n",
       "    <tr>\n",
       "      <th>28901501</th>\n",
       "      <td>2019-10-31 23:59:44</td>\n",
       "      <td>view</td>\n",
       "      <td>4804056</td>\n",
       "      <td>2053013554658804075</td>\n",
       "      <td>electronics.audio.headphone</td>\n",
       "      <td>apple</td>\n",
       "      <td>160.625</td>\n",
       "      <td>544501248</td>\n",
       "      <td>e330d051-37ad-4dc3-b1ee-ff16a28b7998</td>\n",
       "    </tr>\n",
       "    <tr>\n",
       "      <th>28901508</th>\n",
       "      <td>2019-10-31 23:59:49</td>\n",
       "      <td>view</td>\n",
       "      <td>1307449</td>\n",
       "      <td>2053013558920217191</td>\n",
       "      <td>computers.notebook</td>\n",
       "      <td>asus</td>\n",
       "      <td>2570.000</td>\n",
       "      <td>513741043</td>\n",
       "      <td>82f7f972-346a-41f1-ae58-3ccf1edf6726</td>\n",
       "    </tr>\n",
       "    <tr>\n",
       "      <th>28901510</th>\n",
       "      <td>2019-10-31 23:59:51</td>\n",
       "      <td>view</td>\n",
       "      <td>1005014</td>\n",
       "      <td>2053013555631882655</td>\n",
       "      <td>electronics.smartphone</td>\n",
       "      <td>samsung</td>\n",
       "      <td>503.000</td>\n",
       "      <td>533326659</td>\n",
       "      <td>6b928be2-2bce-4640-8296-0efdf2fda22a</td>\n",
       "    </tr>\n",
       "    <tr>\n",
       "      <th>28901514</th>\n",
       "      <td>2019-10-31 23:59:52</td>\n",
       "      <td>view</td>\n",
       "      <td>1002524</td>\n",
       "      <td>2053013555631882655</td>\n",
       "      <td>electronics.smartphone</td>\n",
       "      <td>apple</td>\n",
       "      <td>531.500</td>\n",
       "      <td>565404816</td>\n",
       "      <td>d9cf0ac4-c3ec-4e1f-83aa-326b1e7b1581</td>\n",
       "    </tr>\n",
       "    <tr>\n",
       "      <th>28901515</th>\n",
       "      <td>2019-10-31 23:59:53</td>\n",
       "      <td>view</td>\n",
       "      <td>17200505</td>\n",
       "      <td>2053013559792632471</td>\n",
       "      <td>furniture.living_room.sofa</td>\n",
       "      <td>NaN</td>\n",
       "      <td>543.000</td>\n",
       "      <td>557880508</td>\n",
       "      <td>4a9bfeae-21f3-40d9-a8db-bb7720c521a5</td>\n",
       "    </tr>\n",
       "  </tbody>\n",
       "</table>\n",
       "<p>8873650 rows × 9 columns</p>\n",
       "</div>"
      ],
      "text/plain": [
       "                  event_time event_type  product_id          category_id  \\\n",
       "4        2019-10-01 00:00:05       view     1480613  2053013561092866779   \n",
       "17       2019-10-01 00:00:22       view     1480714  2053013561092866779   \n",
       "18       2019-10-01 00:00:23       view     1004739  2053013555631882655   \n",
       "31       2019-10-01 00:00:35       view     3601505  2053013563810775923   \n",
       "32       2019-10-01 00:00:36       view     3600575  2053013563810775923   \n",
       "...                      ...        ...         ...                  ...   \n",
       "28901501 2019-10-31 23:59:44       view     4804056  2053013554658804075   \n",
       "28901508 2019-10-31 23:59:49       view     1307449  2053013558920217191   \n",
       "28901510 2019-10-31 23:59:51       view     1005014  2053013555631882655   \n",
       "28901514 2019-10-31 23:59:52       view     1002524  2053013555631882655   \n",
       "28901515 2019-10-31 23:59:53       view    17200505  2053013559792632471   \n",
       "\n",
       "                        category_code             brand     price    user_id  \\\n",
       "4                   computers.desktop            pulser   908.500  512742880   \n",
       "17                  computers.desktop            pulser   921.500  512742880   \n",
       "18             electronics.smartphone            xiaomi   197.500  519530528   \n",
       "31          appliances.kitchen.washer           samsung   463.250  526631741   \n",
       "32          appliances.kitchen.washer  hotpoint-ariston   275.250  554754045   \n",
       "...                               ...               ...       ...        ...   \n",
       "28901501  electronics.audio.headphone             apple   160.625  544501248   \n",
       "28901508           computers.notebook              asus  2570.000  513741043   \n",
       "28901510       electronics.smartphone           samsung   503.000  533326659   \n",
       "28901514       electronics.smartphone             apple   531.500  565404816   \n",
       "28901515   furniture.living_room.sofa               NaN   543.000  557880508   \n",
       "\n",
       "                                  user_session  \n",
       "4         0d0d91c2-c9c2-4e81-90a5-86594dec0db9  \n",
       "17        0d0d91c2-c9c2-4e81-90a5-86594dec0db9  \n",
       "18        9882d21f-2c5f-496b-90d4-a1503edb6562  \n",
       "31        5ec9bd77-beef-443e-b987-62ffb55b8132  \n",
       "32        bd0302ef-c5ca-4b6a-b916-95cc2840c72c  \n",
       "...                                        ...  \n",
       "28901501  e330d051-37ad-4dc3-b1ee-ff16a28b7998  \n",
       "28901508  82f7f972-346a-41f1-ae58-3ccf1edf6726  \n",
       "28901510  6b928be2-2bce-4640-8296-0efdf2fda22a  \n",
       "28901514  d9cf0ac4-c3ec-4e1f-83aa-326b1e7b1581  \n",
       "28901515  4a9bfeae-21f3-40d9-a8db-bb7720c521a5  \n",
       "\n",
       "[8873650 rows x 9 columns]"
      ]
     },
     "execution_count": 31,
     "metadata": {},
     "output_type": "execute_result"
    }
   ],
   "source": [
    "user_df = df[df['user_id'].isin(df[df.event_type == 'purchase'].user_id.unique())]\n",
    "user_df"
   ]
  },
  {
   "cell_type": "code",
   "execution_count": null,
   "metadata": {},
   "outputs": [],
   "source": [
    "# sql DB에 저장 후 태블로 활용 및 별도로 분석\n",
    "import sqlite3\n",
    "db = r\"C:\\Users\\mylio\\Desktop\\cp1\\cp1.db\"\n",
    "con = sqlite3.connect(db)\n",
    "user_df.to_sql('user_table', con)"
   ]
  }
 ],
 "metadata": {
  "kernelspec": {
   "display_name": "base",
   "language": "python",
   "name": "python3"
  },
  "language_info": {
   "codemirror_mode": {
    "name": "ipython",
    "version": 3
   },
   "file_extension": ".py",
   "mimetype": "text/x-python",
   "name": "python",
   "nbconvert_exporter": "python",
   "pygments_lexer": "ipython3",
   "version": "3.9.12"
  },
  "orig_nbformat": 4,
  "vscode": {
   "interpreter": {
    "hash": "e4cce46d6be9934fbd27f9ca0432556941ea5bdf741d4f4d64c6cd7f8dfa8fba"
   }
  }
 },
 "nbformat": 4,
 "nbformat_minor": 2
}
